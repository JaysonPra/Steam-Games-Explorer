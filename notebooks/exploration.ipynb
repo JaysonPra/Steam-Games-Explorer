{
 "cells": [
  {
   "cell_type": "code",
   "execution_count": 2,
   "id": "b84bebb2-51fb-4737-8452-df96b249411c",
   "metadata": {},
   "outputs": [],
   "source": [
    "# Importing necessary libraries\n",
    "import pandas as pd\n",
    "import numpy as np"
   ]
  },
  {
   "cell_type": "code",
   "execution_count": 3,
   "id": "2c6e0294-78f3-4a6c-9151-66649e8c8719",
   "metadata": {},
   "outputs": [],
   "source": [
    "# Load CSV\n",
    "steam_games = pd.read_csv(\"../data/games.csv\")"
   ]
  },
  {
   "cell_type": "markdown",
   "id": "92f2108d-ea1f-4713-b366-76ace80b3a51",
   "metadata": {},
   "source": [
    "## Basic EDA"
   ]
  },
  {
   "cell_type": "code",
   "execution_count": 4,
   "id": "3dcb7271-45f1-4abf-860a-17c24c16ea55",
   "metadata": {},
   "outputs": [
    {
     "data": {
      "text/html": [
       "<div>\n",
       "<style scoped>\n",
       "    .dataframe tbody tr th:only-of-type {\n",
       "        vertical-align: middle;\n",
       "    }\n",
       "\n",
       "    .dataframe tbody tr th {\n",
       "        vertical-align: top;\n",
       "    }\n",
       "\n",
       "    .dataframe thead th {\n",
       "        text-align: right;\n",
       "    }\n",
       "</style>\n",
       "<table border=\"1\" class=\"dataframe\">\n",
       "  <thead>\n",
       "    <tr style=\"text-align: right;\">\n",
       "      <th></th>\n",
       "      <th>AppID</th>\n",
       "      <th>Name</th>\n",
       "      <th>Release date</th>\n",
       "      <th>Estimated owners</th>\n",
       "      <th>Peak CCU</th>\n",
       "      <th>Required age</th>\n",
       "      <th>Price</th>\n",
       "      <th>DiscountDLC count</th>\n",
       "      <th>About the game</th>\n",
       "      <th>Supported languages</th>\n",
       "      <th>...</th>\n",
       "      <th>Average playtime two weeks</th>\n",
       "      <th>Median playtime forever</th>\n",
       "      <th>Median playtime two weeks</th>\n",
       "      <th>Developers</th>\n",
       "      <th>Publishers</th>\n",
       "      <th>Categories</th>\n",
       "      <th>Genres</th>\n",
       "      <th>Tags</th>\n",
       "      <th>Screenshots</th>\n",
       "      <th>Movies</th>\n",
       "    </tr>\n",
       "  </thead>\n",
       "  <tbody>\n",
       "    <tr>\n",
       "      <th>20200</th>\n",
       "      <td>Galactic Bowling</td>\n",
       "      <td>Oct 21, 2008</td>\n",
       "      <td>0 - 20000</td>\n",
       "      <td>0</td>\n",
       "      <td>0</td>\n",
       "      <td>19.99</td>\n",
       "      <td>0</td>\n",
       "      <td>0</td>\n",
       "      <td>Galactic Bowling is an exaggerated and stylize...</td>\n",
       "      <td>['English']</td>\n",
       "      <td>...</td>\n",
       "      <td>0</td>\n",
       "      <td>0</td>\n",
       "      <td>0</td>\n",
       "      <td>Perpetual FX Creative</td>\n",
       "      <td>Perpetual FX Creative</td>\n",
       "      <td>Single-player,Multi-player,Steam Achievements,...</td>\n",
       "      <td>Casual,Indie,Sports</td>\n",
       "      <td>Indie,Casual,Sports,Bowling</td>\n",
       "      <td>https://cdn.akamai.steamstatic.com/steam/apps/...</td>\n",
       "      <td>http://cdn.akamai.steamstatic.com/steam/apps/2...</td>\n",
       "    </tr>\n",
       "    <tr>\n",
       "      <th>655370</th>\n",
       "      <td>Train Bandit</td>\n",
       "      <td>Oct 12, 2017</td>\n",
       "      <td>0 - 20000</td>\n",
       "      <td>0</td>\n",
       "      <td>0</td>\n",
       "      <td>0.99</td>\n",
       "      <td>0</td>\n",
       "      <td>0</td>\n",
       "      <td>THE LAW!! Looks to be a showdown atop a train....</td>\n",
       "      <td>['English', 'French', 'Italian', 'German', 'Sp...</td>\n",
       "      <td>...</td>\n",
       "      <td>0</td>\n",
       "      <td>0</td>\n",
       "      <td>0</td>\n",
       "      <td>Rusty Moyher</td>\n",
       "      <td>Wild Rooster</td>\n",
       "      <td>Single-player,Steam Achievements,Full controll...</td>\n",
       "      <td>Action,Indie</td>\n",
       "      <td>Indie,Action,Pixel Graphics,2D,Retro,Arcade,Sc...</td>\n",
       "      <td>https://cdn.akamai.steamstatic.com/steam/apps/...</td>\n",
       "      <td>http://cdn.akamai.steamstatic.com/steam/apps/2...</td>\n",
       "    </tr>\n",
       "    <tr>\n",
       "      <th>1732930</th>\n",
       "      <td>Jolt Project</td>\n",
       "      <td>Nov 17, 2021</td>\n",
       "      <td>0 - 20000</td>\n",
       "      <td>0</td>\n",
       "      <td>0</td>\n",
       "      <td>4.99</td>\n",
       "      <td>0</td>\n",
       "      <td>0</td>\n",
       "      <td>Jolt Project: The army now has a new robotics ...</td>\n",
       "      <td>['English', 'Portuguese - Brazil']</td>\n",
       "      <td>...</td>\n",
       "      <td>0</td>\n",
       "      <td>0</td>\n",
       "      <td>0</td>\n",
       "      <td>Campião Games</td>\n",
       "      <td>Campião Games</td>\n",
       "      <td>Single-player</td>\n",
       "      <td>Action,Adventure,Indie,Strategy</td>\n",
       "      <td>NaN</td>\n",
       "      <td>https://cdn.akamai.steamstatic.com/steam/apps/...</td>\n",
       "      <td>http://cdn.akamai.steamstatic.com/steam/apps/2...</td>\n",
       "    </tr>\n",
       "    <tr>\n",
       "      <th>1355720</th>\n",
       "      <td>Henosis™</td>\n",
       "      <td>Jul 23, 2020</td>\n",
       "      <td>0 - 20000</td>\n",
       "      <td>0</td>\n",
       "      <td>0</td>\n",
       "      <td>5.99</td>\n",
       "      <td>0</td>\n",
       "      <td>0</td>\n",
       "      <td>HENOSIS™ is a mysterious 2D Platform Puzzler w...</td>\n",
       "      <td>['English', 'French', 'Italian', 'German', 'Sp...</td>\n",
       "      <td>...</td>\n",
       "      <td>0</td>\n",
       "      <td>0</td>\n",
       "      <td>0</td>\n",
       "      <td>Odd Critter Games</td>\n",
       "      <td>Odd Critter Games</td>\n",
       "      <td>Single-player,Full controller support</td>\n",
       "      <td>Adventure,Casual,Indie</td>\n",
       "      <td>2D Platformer,Atmospheric,Surreal,Mystery,Puzz...</td>\n",
       "      <td>https://cdn.akamai.steamstatic.com/steam/apps/...</td>\n",
       "      <td>http://cdn.akamai.steamstatic.com/steam/apps/2...</td>\n",
       "    </tr>\n",
       "    <tr>\n",
       "      <th>1139950</th>\n",
       "      <td>Two Weeks in Painland</td>\n",
       "      <td>Feb 3, 2020</td>\n",
       "      <td>0 - 20000</td>\n",
       "      <td>0</td>\n",
       "      <td>0</td>\n",
       "      <td>0.00</td>\n",
       "      <td>0</td>\n",
       "      <td>0</td>\n",
       "      <td>ABOUT THE GAME Play as a hacker who has arrang...</td>\n",
       "      <td>['English', 'Spanish - Spain']</td>\n",
       "      <td>...</td>\n",
       "      <td>0</td>\n",
       "      <td>0</td>\n",
       "      <td>0</td>\n",
       "      <td>Unusual Games</td>\n",
       "      <td>Unusual Games</td>\n",
       "      <td>Single-player,Steam Achievements</td>\n",
       "      <td>Adventure,Indie</td>\n",
       "      <td>Indie,Adventure,Nudity,Violent,Sexual Content,...</td>\n",
       "      <td>https://cdn.akamai.steamstatic.com/steam/apps/...</td>\n",
       "      <td>http://cdn.akamai.steamstatic.com/steam/apps/2...</td>\n",
       "    </tr>\n",
       "  </tbody>\n",
       "</table>\n",
       "<p>5 rows × 39 columns</p>\n",
       "</div>"
      ],
      "text/plain": [
       "                         AppID          Name Release date  Estimated owners  \\\n",
       "20200         Galactic Bowling  Oct 21, 2008    0 - 20000                 0   \n",
       "655370            Train Bandit  Oct 12, 2017    0 - 20000                 0   \n",
       "1732930           Jolt Project  Nov 17, 2021    0 - 20000                 0   \n",
       "1355720               Henosis™  Jul 23, 2020    0 - 20000                 0   \n",
       "1139950  Two Weeks in Painland   Feb 3, 2020    0 - 20000                 0   \n",
       "\n",
       "         Peak CCU  Required age  Price  DiscountDLC count  \\\n",
       "20200           0         19.99      0                  0   \n",
       "655370          0          0.99      0                  0   \n",
       "1732930         0          4.99      0                  0   \n",
       "1355720         0          5.99      0                  0   \n",
       "1139950         0          0.00      0                  0   \n",
       "\n",
       "                                            About the game  \\\n",
       "20200    Galactic Bowling is an exaggerated and stylize...   \n",
       "655370   THE LAW!! Looks to be a showdown atop a train....   \n",
       "1732930  Jolt Project: The army now has a new robotics ...   \n",
       "1355720  HENOSIS™ is a mysterious 2D Platform Puzzler w...   \n",
       "1139950  ABOUT THE GAME Play as a hacker who has arrang...   \n",
       "\n",
       "                                       Supported languages  ...  \\\n",
       "20200                                          ['English']  ...   \n",
       "655370   ['English', 'French', 'Italian', 'German', 'Sp...  ...   \n",
       "1732930                 ['English', 'Portuguese - Brazil']  ...   \n",
       "1355720  ['English', 'French', 'Italian', 'German', 'Sp...  ...   \n",
       "1139950                     ['English', 'Spanish - Spain']  ...   \n",
       "\n",
       "        Average playtime two weeks Median playtime forever  \\\n",
       "20200                            0                       0   \n",
       "655370                           0                       0   \n",
       "1732930                          0                       0   \n",
       "1355720                          0                       0   \n",
       "1139950                          0                       0   \n",
       "\n",
       "        Median playtime two weeks             Developers  \\\n",
       "20200                           0  Perpetual FX Creative   \n",
       "655370                          0           Rusty Moyher   \n",
       "1732930                         0          Campião Games   \n",
       "1355720                         0      Odd Critter Games   \n",
       "1139950                         0          Unusual Games   \n",
       "\n",
       "                    Publishers  \\\n",
       "20200    Perpetual FX Creative   \n",
       "655370            Wild Rooster   \n",
       "1732930          Campião Games   \n",
       "1355720      Odd Critter Games   \n",
       "1139950          Unusual Games   \n",
       "\n",
       "                                                Categories  \\\n",
       "20200    Single-player,Multi-player,Steam Achievements,...   \n",
       "655370   Single-player,Steam Achievements,Full controll...   \n",
       "1732930                                      Single-player   \n",
       "1355720              Single-player,Full controller support   \n",
       "1139950                   Single-player,Steam Achievements   \n",
       "\n",
       "                                  Genres  \\\n",
       "20200                Casual,Indie,Sports   \n",
       "655370                      Action,Indie   \n",
       "1732930  Action,Adventure,Indie,Strategy   \n",
       "1355720           Adventure,Casual,Indie   \n",
       "1139950                  Adventure,Indie   \n",
       "\n",
       "                                                      Tags  \\\n",
       "20200                          Indie,Casual,Sports,Bowling   \n",
       "655370   Indie,Action,Pixel Graphics,2D,Retro,Arcade,Sc...   \n",
       "1732930                                                NaN   \n",
       "1355720  2D Platformer,Atmospheric,Surreal,Mystery,Puzz...   \n",
       "1139950  Indie,Adventure,Nudity,Violent,Sexual Content,...   \n",
       "\n",
       "                                               Screenshots  \\\n",
       "20200    https://cdn.akamai.steamstatic.com/steam/apps/...   \n",
       "655370   https://cdn.akamai.steamstatic.com/steam/apps/...   \n",
       "1732930  https://cdn.akamai.steamstatic.com/steam/apps/...   \n",
       "1355720  https://cdn.akamai.steamstatic.com/steam/apps/...   \n",
       "1139950  https://cdn.akamai.steamstatic.com/steam/apps/...   \n",
       "\n",
       "                                                    Movies  \n",
       "20200    http://cdn.akamai.steamstatic.com/steam/apps/2...  \n",
       "655370   http://cdn.akamai.steamstatic.com/steam/apps/2...  \n",
       "1732930  http://cdn.akamai.steamstatic.com/steam/apps/2...  \n",
       "1355720  http://cdn.akamai.steamstatic.com/steam/apps/2...  \n",
       "1139950  http://cdn.akamai.steamstatic.com/steam/apps/2...  \n",
       "\n",
       "[5 rows x 39 columns]"
      ]
     },
     "execution_count": 4,
     "metadata": {},
     "output_type": "execute_result"
    }
   ],
   "source": [
    "steam_games.head(5)"
   ]
  },
  {
   "cell_type": "markdown",
   "id": "375e0887-3993-42d6-af1d-f195333a7142",
   "metadata": {},
   "source": [
    "## Correcting Feature names\n",
    "It seems like the feature names have been named incorrectly"
   ]
  },
  {
   "cell_type": "code",
   "execution_count": null,
   "id": "372a8b94-58f4-409d-afeb-bebf6870cb89",
   "metadata": {},
   "outputs": [],
   "source": [
    "steam_games.columns = ['Name', 'Release date', 'Estimated owners', 'Peak CCU',\n",
    "       'Required age', 'Price', 'Discount', 'DLC count', 'About the game',\n",
    "       'Supported languages', 'Full audio languages', 'Reviews',\n",
    "       'Header image', 'Website', 'Support url', 'Support email', 'Windows',\n",
    "       'Mac', 'Linux', 'Metacritic score', 'Metacritic url', 'User score',\n",
    "       'Positive', 'Negative', 'Score rank', 'Achievements', 'Recommendations',\n",
    "       'Notes', 'Average playtime forever', 'Average playtime two weeks',\n",
    "       'Median playtime forever', 'Median playtime two weeks', 'Developers',\n",
    "       'Publishers', 'Categories', 'Genres', 'Tags', 'Screenshots', 'Movies']"
   ]
  },
  {
   "cell_type": "code",
   "execution_count": null,
   "id": "e1db49c8-f08e-4bff-837e-b60a8d03412d",
   "metadata": {},
   "outputs": [],
   "source": [
    "steam_games.head(3)"
   ]
  },
  {
   "cell_type": "markdown",
   "id": "4fadc8bc-ee14-499a-aa2a-d2f42280ad08",
   "metadata": {},
   "source": [
    "### Dropping unneeded columns"
   ]
  },
  {
   "cell_type": "code",
   "execution_count": null,
   "id": "45eb5e53-cf1c-4173-a194-8ed99da88d78",
   "metadata": {},
   "outputs": [],
   "source": [
    "steam_games.drop([\"Screenshots\",  \"Movies\", \"Tags\", \"Website\", \"Support email\", \"Header image\", \"About the game\" , \"Reviews\" , \"Metacritic url\", \"Support url\", \"Score rank\", \"Notes\", \"Reviews\", \"About the game\"], axis=1, inplace=True)"
   ]
  },
  {
   "cell_type": "markdown",
   "id": "4a389a48-1b52-4359-a35d-bebb7c749e8b",
   "metadata": {},
   "source": [
    "### Dropping all rows with Nulls"
   ]
  },
  {
   "cell_type": "code",
   "execution_count": null,
   "id": "510d7a80-edd4-4cb5-812d-ebf652db65d3",
   "metadata": {},
   "outputs": [],
   "source": [
    "null_cols = steam_games.isnull().sum()\n",
    "null_cols = null_cols[null_cols > 0]\n",
    "null_cols"
   ]
  },
  {
   "cell_type": "code",
   "execution_count": null,
   "id": "6128a7bb-9290-4fa6-8228-8bb8768190fc",
   "metadata": {},
   "outputs": [],
   "source": [
    "steam_games.dropna(inplace=True)"
   ]
  },
  {
   "cell_type": "markdown",
   "id": "d9d28078-b4f3-4550-9c20-972cfd8c4e05",
   "metadata": {},
   "source": [
    "### Date Conversion\n",
    "\n",
    "In this dataset, the release dates are not in the correct format."
   ]
  },
  {
   "cell_type": "code",
   "execution_count": null,
   "id": "247312ef-9f42-4db1-8dfd-34c73cc6862b",
   "metadata": {},
   "outputs": [],
   "source": [
    "steam_games[\"Release date\"].dtype"
   ]
  },
  {
   "cell_type": "code",
   "execution_count": null,
   "id": "993bbe1f-0bc5-4e5d-86f8-a99fa9b2ac8f",
   "metadata": {},
   "outputs": [],
   "source": [
    "pd.to_datetime(steam_games[\"Release date\"], errors='coerce')"
   ]
  },
  {
   "cell_type": "markdown",
   "id": "3392c7b1-2482-4602-a7ea-d26bafe06d62",
   "metadata": {},
   "source": [
    "## Working with cleaned dataset"
   ]
  },
  {
   "cell_type": "code",
   "execution_count": null,
   "id": "abf18579-412e-42c3-ae30-ca55a555f68b",
   "metadata": {},
   "outputs": [],
   "source": [
    "steam_games.head(5)"
   ]
  },
  {
   "cell_type": "code",
   "execution_count": null,
   "id": "dd918fb3-8cf4-4dba-9575-9140f9855eff",
   "metadata": {},
   "outputs": [],
   "source": [
    "# Top 10 Peak CCUs\n",
    "steam_games[['Name', 'Peak CCU']].sort_values(by='Peak CCU', ascending=False).head(10)"
   ]
  },
  {
   "cell_type": "code",
   "execution_count": null,
   "id": "71559488-f1d5-404a-a0f6-e98b8b397480",
   "metadata": {},
   "outputs": [],
   "source": [
    "# Most common game prices\n",
    "steam_games['Price'].value_counts().head(5)"
   ]
  },
  {
   "cell_type": "code",
   "execution_count": null,
   "id": "263ff2a3-4881-40ee-b4fb-548d85afaaf6",
   "metadata": {},
   "outputs": [],
   "source": [
    "steam_games[\"User score\"].dtype"
   ]
  },
  {
   "cell_type": "code",
   "execution_count": null,
   "id": "b274825b-b0a3-41d2-af5e-d3e7d6f6e22a",
   "metadata": {},
   "outputs": [],
   "source": [
    "steam_games['Estimated owners_str'] = steam_games['Estimated owners'].copy()\n",
    "owners_split = steam_games[\"Estimated owners\"].astype(str).str.split(' - ', expand=True)\n",
    "owners_split_numeric = owners_split.apply(pd.to_numeric, errors='coerce')\n",
    "steam_games[\"Estimated owners avg\"] = owners_split_numeric.mean(axis=1)"
   ]
  },
  {
   "cell_type": "code",
   "execution_count": null,
   "id": "fe52883c-dc8b-4009-aa5b-e9e07eec18c6",
   "metadata": {},
   "outputs": [],
   "source": [
    "steam_games.loc[steam_games[\"Price\"] > 0, \"Value\"] = steam_games[\"Average playtime forever\"] / steam_games[\"Price\"]\n",
    "\n",
    "\n",
    "valid_mask = (\n",
    "    (steam_games[\"Price\"] > 0) &\n",
    "    np.isfinite(steam_games[\"Value\"]) &\n",
    "    steam_games[\"Metacritic score\"].notna() &\n",
    "    (steam_games[\"Metacritic score\"] > 0)\n",
    ")\n",
    "\n",
    "steam_games.loc[valid_mask, \"Weighted Value\"] = steam_games.loc[valid_mask, \"Value\"] * steam_games.loc[valid_mask, \"Metacritic score\"]\n",
    "\n",
    "filtered = steam_games[\n",
    "    (steam_games[\"Price\"] > 10) &\n",
    "    (steam_games[\"Recommendations\"] > 10000)\n",
    "]\n",
    "filtered[[\"Name\", \"Weighted Value\", \"Metacritic score\"]].sort_values(by=\"Weighted Value\", ascending=False).head(10)"
   ]
  },
  {
   "cell_type": "code",
   "execution_count": null,
   "id": "a18cfc6c-f00b-4d19-ba2c-17977a2b5789",
   "metadata": {},
   "outputs": [],
   "source": [
    "steam_games[\"Release date\"] = pd.to_datetime(steam_games[\"Release date\"], errors='coerce')\n",
    "steam_games.dropna(subset=[\"Release date\"], inplace=True)"
   ]
  },
  {
   "cell_type": "code",
   "execution_count": null,
   "id": "127e57ea-3564-40fc-bae3-b4355d2c2cac",
   "metadata": {},
   "outputs": [],
   "source": [
    "steam_games[\"Release Year\"] = steam_games[\"Release date\"].dt.year"
   ]
  },
  {
   "cell_type": "code",
   "execution_count": null,
   "id": "88f0ccd4-6858-4ce0-9025-1badea7fc1f2",
   "metadata": {},
   "outputs": [],
   "source": [
    "price_conditions = [\n",
    "    (steam_games['Price'] == 0),\n",
    "    (steam_games['Price'] > 0) & (steam_games['Price'] <= 4.99),\n",
    "    (steam_games['Price'] > 4.99) & (steam_games['Price'] <= 9.99),\n",
    "    (steam_games['Price'] > 9.99) & (steam_games['Price'] <= 19.99),\n",
    "    (steam_games['Price'] > 19.99) & (steam_games['Price'] <= 39.99),\n",
    "    (steam_games['Price'] > 39.99) & (steam_games['Price'] <= 59.99),\n",
    "    (steam_games['Price'] > 59.99)\n",
    "]\n",
    "\n",
    "choices = [\n",
    "    'Free',\n",
    "    '$0.01 - $4.99',\n",
    "    '$5.00 - $9.99',\n",
    "    '$10.00 - $19.99',\n",
    "    '$20.00 - $39.99',\n",
    "    '$40.00 - $59.99',\n",
    "    '$60.00+'\n",
    "]\n",
    "\n",
    "steam_games['Price Category'] = np.select(price_conditions, choices, default=\"Unknown\")\n",
    "\n",
    "steam_games['Price Category'].value_counts()"
   ]
  },
  {
   "cell_type": "code",
   "execution_count": null,
   "id": "5516f854-7919-4136-8f00-a50c5ea717c0",
   "metadata": {},
   "outputs": [],
   "source": [
    "steam_games[\"Achievements\"].sort_values(ascending=False).head(10)"
   ]
  },
  {
   "cell_type": "code",
   "execution_count": null,
   "id": "858a349f-0f78-4b6f-8aca-6a885d62aa98",
   "metadata": {},
   "outputs": [],
   "source": [
    "steam_games.columns"
   ]
  },
  {
   "cell_type": "code",
   "execution_count": null,
   "id": "7bb2d379-418f-4f26-871d-57aea4e52d07",
   "metadata": {},
   "outputs": [],
   "source": [
    "steam_games['Steam_URL'] = 'https://store.steampowered.com/app/' + steam_games.index.astype(str) + '/'\n",
    "steam_games['Steam_URL'].head(10)"
   ]
  },
  {
   "cell_type": "code",
   "execution_count": null,
   "id": "6cdd3ac2-9735-4062-85a6-d732f7cfa84f",
   "metadata": {},
   "outputs": [],
   "source": [
    "steam_games[\"Reviews\"] = steam_games[\"Positive\"] + steam_games[\"Negative\"]\n",
    "steam_games[[\"Name\", \"Reviews\", \"Price\", \"Discount\"]].sort_values(by=\"Reviews\", ascending=False).head(10)"
   ]
  },
  {
   "cell_type": "code",
   "execution_count": null,
   "id": "ada51a37-f573-45d6-9ed9-e6a5d7175446",
   "metadata": {},
   "outputs": [],
   "source": [
    "steam_games[steam_games[\"Name\"] == \"Grand Theft Auto V\"]"
   ]
  }
 ],
 "metadata": {
  "kernelspec": {
   "display_name": "Python [conda env:base] *",
   "language": "python",
   "name": "conda-base-py"
  },
  "language_info": {
   "codemirror_mode": {
    "name": "ipython",
    "version": 3
   },
   "file_extension": ".py",
   "mimetype": "text/x-python",
   "name": "python",
   "nbconvert_exporter": "python",
   "pygments_lexer": "ipython3",
   "version": "3.12.7"
  }
 },
 "nbformat": 4,
 "nbformat_minor": 5
}
